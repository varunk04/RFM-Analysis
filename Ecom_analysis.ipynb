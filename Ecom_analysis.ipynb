{
 "cells": [
  {
   "cell_type": "markdown",
   "id": "16983875",
   "metadata": {},
   "source": [
    "## OVERVIEW:\n",
    "\n",
    "* This project aims to segement the customers based on thier buying behaviour.\n",
    "\n",
    "\n",
    "* RFM analysis is carried out in order to segment the customer's.\n",
    "\n",
    "\n",
    "* R -- Recency(How recent was the customer's last purchase?)\n",
    "\n",
    "  F -- Frequency(How often does the customer purchases ?)\n",
    "  \n",
    "  M -- Monetary(How much does the customer spend ?)\n",
    "\n",
    "\n",
    "* Based on this each customer is given a RFM score which determines the loyalty. "
   ]
  },
  {
   "cell_type": "markdown",
   "id": "a52b1d8f",
   "metadata": {},
   "source": [
    "## Importing Necessary Libraries:"
   ]
  },
  {
   "cell_type": "code",
   "execution_count": 1,
   "id": "6df5953c-ea0b-4c82-a182-5085cadec8a7",
   "metadata": {},
   "outputs": [],
   "source": [
    "import numpy as np\n",
    "import pandas as pd\n",
    "import matplotlib.pyplot as plt\n",
    "import warnings\n",
    "warnings.filterwarnings('ignore')\n",
    "import seaborn as sns"
   ]
  },
  {
   "cell_type": "markdown",
   "id": "68fb36fc",
   "metadata": {},
   "source": [
    "### Reading  and checking the data:"
   ]
  },
  {
   "cell_type": "code",
   "execution_count": 2,
   "id": "2019b923-da99-4aa7-a4e6-1882f9242bb1",
   "metadata": {},
   "outputs": [],
   "source": [
    "data = pd.read_csv('E-com_Data.csv')"
   ]
  },
  {
   "cell_type": "code",
   "execution_count": 3,
   "id": "fdcd1093-7ca4-40f0-a143-0770c5b176ac",
   "metadata": {},
   "outputs": [
    {
     "data": {
      "text/html": [
       "<div>\n",
       "<style scoped>\n",
       "    .dataframe tbody tr th:only-of-type {\n",
       "        vertical-align: middle;\n",
       "    }\n",
       "\n",
       "    .dataframe tbody tr th {\n",
       "        vertical-align: top;\n",
       "    }\n",
       "\n",
       "    .dataframe thead th {\n",
       "        text-align: right;\n",
       "    }\n",
       "</style>\n",
       "<table border=\"1\" class=\"dataframe\">\n",
       "  <thead>\n",
       "    <tr style=\"text-align: right;\">\n",
       "      <th></th>\n",
       "      <th>CustomerID</th>\n",
       "      <th>Item Code</th>\n",
       "      <th>InvoieNo</th>\n",
       "      <th>Date of purchase</th>\n",
       "      <th>Quantity</th>\n",
       "      <th>Time</th>\n",
       "      <th>price per Unit</th>\n",
       "      <th>Price</th>\n",
       "      <th>Shipping Location</th>\n",
       "      <th>Cancelled_status</th>\n",
       "      <th>Reason of return</th>\n",
       "      <th>Sold as set</th>\n",
       "    </tr>\n",
       "  </thead>\n",
       "  <tbody>\n",
       "    <tr>\n",
       "      <th>0</th>\n",
       "      <td>4355.0</td>\n",
       "      <td>15734</td>\n",
       "      <td>398177.0</td>\n",
       "      <td>29-10-2017</td>\n",
       "      <td>6.0</td>\n",
       "      <td>3:36:00 PM</td>\n",
       "      <td>321.0</td>\n",
       "      <td>1926.0</td>\n",
       "      <td>Location 1</td>\n",
       "      <td>NaN</td>\n",
       "      <td>NaN</td>\n",
       "      <td>NaN</td>\n",
       "    </tr>\n",
       "    <tr>\n",
       "      <th>1</th>\n",
       "      <td>4352.0</td>\n",
       "      <td>14616</td>\n",
       "      <td>394422.0</td>\n",
       "      <td>05-10-2017</td>\n",
       "      <td>2.0</td>\n",
       "      <td>2:53:00 PM</td>\n",
       "      <td>870.0</td>\n",
       "      <td>1740.0</td>\n",
       "      <td>Location 1</td>\n",
       "      <td>NaN</td>\n",
       "      <td>NaN</td>\n",
       "      <td>NaN</td>\n",
       "    </tr>\n",
       "    <tr>\n",
       "      <th>2</th>\n",
       "      <td>4352.0</td>\n",
       "      <td>14614</td>\n",
       "      <td>394422.0</td>\n",
       "      <td>12-10-2017</td>\n",
       "      <td>2.0</td>\n",
       "      <td>2:53:00 PM</td>\n",
       "      <td>933.0</td>\n",
       "      <td>1866.0</td>\n",
       "      <td>Location 1</td>\n",
       "      <td>NaN</td>\n",
       "      <td>NaN</td>\n",
       "      <td>NaN</td>\n",
       "    </tr>\n",
       "    <tr>\n",
       "      <th>3</th>\n",
       "      <td>4352.0</td>\n",
       "      <td>85014B</td>\n",
       "      <td>388633.0</td>\n",
       "      <td>22-08-2017</td>\n",
       "      <td>3.0</td>\n",
       "      <td>2:47:00 PM</td>\n",
       "      <td>623.0</td>\n",
       "      <td>1869.0</td>\n",
       "      <td>Location 1</td>\n",
       "      <td>NaN</td>\n",
       "      <td>NaN</td>\n",
       "      <td>NaN</td>\n",
       "    </tr>\n",
       "    <tr>\n",
       "      <th>4</th>\n",
       "      <td>4352.0</td>\n",
       "      <td>15364</td>\n",
       "      <td>394422.0</td>\n",
       "      <td>10-10-2017</td>\n",
       "      <td>2.0</td>\n",
       "      <td>2:53:00 PM</td>\n",
       "      <td>944.0</td>\n",
       "      <td>1888.0</td>\n",
       "      <td>Location 1</td>\n",
       "      <td>NaN</td>\n",
       "      <td>NaN</td>\n",
       "      <td>NaN</td>\n",
       "    </tr>\n",
       "  </tbody>\n",
       "</table>\n",
       "</div>"
      ],
      "text/plain": [
       "   CustomerID Item Code  InvoieNo Date of purchase  Quantity        Time  \\\n",
       "0      4355.0     15734  398177.0       29-10-2017       6.0  3:36:00 PM   \n",
       "1      4352.0     14616  394422.0       05-10-2017       2.0  2:53:00 PM   \n",
       "2      4352.0     14614  394422.0       12-10-2017       2.0  2:53:00 PM   \n",
       "3      4352.0    85014B  388633.0       22-08-2017       3.0  2:47:00 PM   \n",
       "4      4352.0     15364  394422.0       10-10-2017       2.0  2:53:00 PM   \n",
       "\n",
       "   price per Unit   Price Shipping Location Cancelled_status Reason of return  \\\n",
       "0           321.0  1926.0        Location 1              NaN              NaN   \n",
       "1           870.0  1740.0        Location 1              NaN              NaN   \n",
       "2           933.0  1866.0        Location 1              NaN              NaN   \n",
       "3           623.0  1869.0        Location 1              NaN              NaN   \n",
       "4           944.0  1888.0        Location 1              NaN              NaN   \n",
       "\n",
       "   Sold as set  \n",
       "0          NaN  \n",
       "1          NaN  \n",
       "2          NaN  \n",
       "3          NaN  \n",
       "4          NaN  "
      ]
     },
     "execution_count": 3,
     "metadata": {},
     "output_type": "execute_result"
    }
   ],
   "source": [
    "data.head()"
   ]
  },
  {
   "cell_type": "code",
   "execution_count": 4,
   "id": "5ea9173f-f05a-4d9f-bb34-b9b126473517",
   "metadata": {},
   "outputs": [
    {
     "name": "stdout",
     "output_type": "stream",
     "text": [
      "<class 'pandas.core.frame.DataFrame'>\n",
      "RangeIndex: 541116 entries, 0 to 541115\n",
      "Data columns (total 12 columns):\n",
      " #   Column             Non-Null Count   Dtype  \n",
      "---  ------             --------------   -----  \n",
      " 0   CustomerID         404189 non-null  float64\n",
      " 1   Item Code          537979 non-null  object \n",
      " 2   InvoieNo           537979 non-null  float64\n",
      " 3   Date of purchase   537979 non-null  object \n",
      " 4   Quantity           537979 non-null  float64\n",
      " 5   Time               537979 non-null  object \n",
      " 6   price per Unit     537979 non-null  float64\n",
      " 7   Price              537979 non-null  float64\n",
      " 8   Shipping Location  537979 non-null  object \n",
      " 9   Cancelled_status   8345 non-null    object \n",
      " 10  Reason of return   3 non-null       object \n",
      " 11  Sold as set        0 non-null       float64\n",
      "dtypes: float64(6), object(6)\n",
      "memory usage: 49.5+ MB\n"
     ]
    }
   ],
   "source": [
    "data.info()"
   ]
  },
  {
   "cell_type": "markdown",
   "id": "72088b99",
   "metadata": {},
   "source": [
    "OBSERVATIONS:\n",
    "\n",
    "    * Date of purchase is having object as data type which should be converted to datetime format."
   ]
  },
  {
   "cell_type": "markdown",
   "id": "903fb9cf-f875-4ec3-b620-853a3bfaebf4",
   "metadata": {},
   "source": [
    "### CHECKING THE NULL VALUES:"
   ]
  },
  {
   "cell_type": "code",
   "execution_count": 6,
   "id": "29b26abd-a44a-4cc3-9f88-d0ffc1e9d511",
   "metadata": {},
   "outputs": [
    {
     "name": "stdout",
     "output_type": "stream",
     "text": [
      "CustomerID            25.304556\n",
      "Item Code              0.579728\n",
      "InvoieNo               0.579728\n",
      "Date of purchase       0.579728\n",
      "Quantity               0.579728\n",
      "Time                   0.579728\n",
      "price per Unit         0.579728\n",
      "Price                  0.579728\n",
      "Shipping Location      0.579728\n",
      "Cancelled_status      98.457817\n",
      "Reason of return      99.999446\n",
      "Sold as set          100.000000\n",
      "dtype: float64\n"
     ]
    }
   ],
   "source": [
    "print(data.isnull().sum()/len(data)*100)"
   ]
  },
  {
   "cell_type": "code",
   "execution_count": 7,
   "id": "942049d7-ce3e-41b1-a2e5-b4f2b4ad9f4f",
   "metadata": {},
   "outputs": [
    {
     "data": {
      "text/plain": [
       "CustomerID           136927\n",
       "Item Code              3137\n",
       "InvoieNo               3137\n",
       "Date of purchase       3137\n",
       "Quantity               3137\n",
       "Time                   3137\n",
       "price per Unit         3137\n",
       "Price                  3137\n",
       "Shipping Location      3137\n",
       "Cancelled_status     532771\n",
       "Reason of return     541113\n",
       "Sold as set          541116\n",
       "dtype: int64"
      ]
     },
     "execution_count": 7,
     "metadata": {},
     "output_type": "execute_result"
    }
   ],
   "source": [
    "data.isnull().sum()"
   ]
  },
  {
   "cell_type": "markdown",
   "id": "1dfc8215-8818-4a36-9e6a-9042827e3ab1",
   "metadata": {},
   "source": [
    "### Dropping the duplicates"
   ]
  },
  {
   "cell_type": "code",
   "execution_count": 8,
   "id": "eb23d02b-b35b-4447-beee-81b4522978de",
   "metadata": {},
   "outputs": [],
   "source": [
    "data = data.drop_duplicates(ignore_index= True)"
   ]
  },
  {
   "cell_type": "code",
   "execution_count": 9,
   "id": "15b5c461-1892-4c66-95fc-406dc7722d27",
   "metadata": {},
   "outputs": [
    {
     "data": {
      "text/plain": [
       "CustomerID           133790\n",
       "Item Code                 1\n",
       "InvoieNo                  1\n",
       "Date of purchase          1\n",
       "Quantity                  1\n",
       "Time                      1\n",
       "price per Unit            1\n",
       "Price                     1\n",
       "Shipping Location         1\n",
       "Cancelled_status     529626\n",
       "Reason of return     537968\n",
       "Sold as set          537971\n",
       "dtype: int64"
      ]
     },
     "execution_count": 9,
     "metadata": {},
     "output_type": "execute_result"
    }
   ],
   "source": [
    "data.isnull().sum()"
   ]
  },
  {
   "cell_type": "markdown",
   "id": "2a04bdea-8fb6-4aab-8a24-9036e17a7f82",
   "metadata": {},
   "source": [
    "### Dropping the null values from customer ID:"
   ]
  },
  {
   "cell_type": "code",
   "execution_count": 10,
   "id": "e348b5c5-7727-4e76-807f-41f506c7a07b",
   "metadata": {},
   "outputs": [],
   "source": [
    "data = data.dropna(subset = ['CustomerID'])"
   ]
  },
  {
   "cell_type": "code",
   "execution_count": 11,
   "id": "ba642d2a-c56b-4ac7-b7f7-16ef27286179",
   "metadata": {},
   "outputs": [
    {
     "data": {
      "text/plain": [
       "CustomerID                0\n",
       "Item Code                 0\n",
       "InvoieNo                  0\n",
       "Date of purchase          0\n",
       "Quantity                  0\n",
       "Time                      0\n",
       "price per Unit            0\n",
       "Price                     0\n",
       "Shipping Location         0\n",
       "Cancelled_status     395998\n",
       "Reason of return     404181\n",
       "Sold as set          404181\n",
       "dtype: int64"
      ]
     },
     "execution_count": 11,
     "metadata": {},
     "output_type": "execute_result"
    }
   ],
   "source": [
    "data.isnull().sum()"
   ]
  },
  {
   "cell_type": "code",
   "execution_count": 12,
   "id": "f19ee21b-4938-4904-a6df-9ca30109362d",
   "metadata": {},
   "outputs": [],
   "source": [
    "### Converting the date format :\n",
    "\n",
    "data['Date of purchase'] = pd.to_datetime(data['Date of purchase'])"
   ]
  },
  {
   "cell_type": "code",
   "execution_count": 13,
   "id": "981d29d4-7d26-47d9-b8c4-b945c668f942",
   "metadata": {},
   "outputs": [
    {
     "name": "stdout",
     "output_type": "stream",
     "text": [
      "<class 'pandas.core.frame.DataFrame'>\n",
      "Int64Index: 404181 entries, 0 to 537940\n",
      "Data columns (total 12 columns):\n",
      " #   Column             Non-Null Count   Dtype         \n",
      "---  ------             --------------   -----         \n",
      " 0   CustomerID         404181 non-null  float64       \n",
      " 1   Item Code          404181 non-null  object        \n",
      " 2   InvoieNo           404181 non-null  float64       \n",
      " 3   Date of purchase   404181 non-null  datetime64[ns]\n",
      " 4   Quantity           404181 non-null  float64       \n",
      " 5   Time               404181 non-null  object        \n",
      " 6   price per Unit     404181 non-null  float64       \n",
      " 7   Price              404181 non-null  float64       \n",
      " 8   Shipping Location  404181 non-null  object        \n",
      " 9   Cancelled_status   8183 non-null    object        \n",
      " 10  Reason of return   0 non-null       object        \n",
      " 11  Sold as set        0 non-null       float64       \n",
      "dtypes: datetime64[ns](1), float64(6), object(5)\n",
      "memory usage: 40.1+ MB\n"
     ]
    }
   ],
   "source": [
    "data.info()"
   ]
  },
  {
   "cell_type": "code",
   "execution_count": 14,
   "id": "ef6580e6-17b0-4b9a-9837-e61d38858309",
   "metadata": {},
   "outputs": [
    {
     "data": {
      "text/plain": [
       "count                  404181\n",
       "unique                    381\n",
       "top       2017-11-24 00:00:00\n",
       "freq                     2522\n",
       "first     2016-02-12 00:00:00\n",
       "last      2017-12-19 00:00:00\n",
       "Name: Date of purchase, dtype: object"
      ]
     },
     "execution_count": 14,
     "metadata": {},
     "output_type": "execute_result"
    }
   ],
   "source": [
    "data['Date of purchase'].describe()"
   ]
  },
  {
   "cell_type": "code",
   "execution_count": 15,
   "id": "3eab2b19-ef6f-489f-903d-ab826ed14871",
   "metadata": {},
   "outputs": [],
   "source": [
    "import datetime as dt\n",
    "\n",
    "latest_date = dt.datetime(2017,12,20)\n"
   ]
  },
  {
   "cell_type": "code",
   "execution_count": 17,
   "id": "00cd5f2e-b476-4bd1-9512-4ed33b9519b5",
   "metadata": {},
   "outputs": [],
   "source": [
    "data['date_c'] = data['Date of purchase']"
   ]
  },
  {
   "cell_type": "markdown",
   "id": "b4ccc39d",
   "metadata": {},
   "source": [
    "## RFM Analysis:\n",
    "\n",
    "### Recency = Latest Date - last Invoice Date\n",
    "### Frequency = Count of the number of times a particular customer has made a purchase\n",
    "### Monetary = Sum of Total price per customer"
   ]
  },
  {
   "cell_type": "code",
   "execution_count": 18,
   "id": "4b2b9b87-8f8b-4674-ba77-f8db7782f7d5",
   "metadata": {},
   "outputs": [],
   "source": [
    "RFMScore = data.groupby('CustomerID').agg({'Date of purchase':lambda x:(latest_date - x.max()).days,\n",
    "                                           'date_c': lambda x: x.nunique(),\n",
    "                                           'Price': lambda x:x.sum()})"
   ]
  },
  {
   "cell_type": "code",
   "execution_count": 19,
   "id": "71624d0f-9f86-41a1-bc78-f861a3070b18",
   "metadata": {},
   "outputs": [],
   "source": [
    "RFMScore['date_c'] = RFMScore['date_c'].astype(int)"
   ]
  },
  {
   "cell_type": "code",
   "execution_count": 20,
   "id": "8d8238e1-9ef8-45ce-bea1-7d085a4e5a76",
   "metadata": {},
   "outputs": [],
   "source": [
    "RFMScore.rename(columns={'Date of purchase':'Recency', 'date_c':'Frequency', 'Price':'Monetary'}, inplace=True)"
   ]
  },
  {
   "cell_type": "code",
   "execution_count": 21,
   "id": "ad9485ec-81fe-427b-9ce6-e5925de6549e",
   "metadata": {},
   "outputs": [
    {
     "data": {
      "text/html": [
       "<div>\n",
       "<style scoped>\n",
       "    .dataframe tbody tr th:only-of-type {\n",
       "        vertical-align: middle;\n",
       "    }\n",
       "\n",
       "    .dataframe tbody tr th {\n",
       "        vertical-align: top;\n",
       "    }\n",
       "\n",
       "    .dataframe thead th {\n",
       "        text-align: right;\n",
       "    }\n",
       "</style>\n",
       "<table border=\"1\" class=\"dataframe\">\n",
       "  <thead>\n",
       "    <tr style=\"text-align: right;\">\n",
       "      <th></th>\n",
       "      <th>CustomerID</th>\n",
       "      <th>Recency</th>\n",
       "      <th>Frequency</th>\n",
       "      <th>Monetary</th>\n",
       "    </tr>\n",
       "  </thead>\n",
       "  <tbody>\n",
       "    <tr>\n",
       "      <th>0</th>\n",
       "      <td>2.0</td>\n",
       "      <td>4</td>\n",
       "      <td>63</td>\n",
       "      <td>553704.0</td>\n",
       "    </tr>\n",
       "    <tr>\n",
       "      <th>1</th>\n",
       "      <td>3.0</td>\n",
       "      <td>77</td>\n",
       "      <td>18</td>\n",
       "      <td>257404.0</td>\n",
       "    </tr>\n",
       "    <tr>\n",
       "      <th>2</th>\n",
       "      <td>4.0</td>\n",
       "      <td>20</td>\n",
       "      <td>10</td>\n",
       "      <td>176613.0</td>\n",
       "    </tr>\n",
       "    <tr>\n",
       "      <th>3</th>\n",
       "      <td>5.0</td>\n",
       "      <td>18</td>\n",
       "      <td>7</td>\n",
       "      <td>41976.0</td>\n",
       "    </tr>\n",
       "    <tr>\n",
       "      <th>4</th>\n",
       "      <td>6.0</td>\n",
       "      <td>9</td>\n",
       "      <td>42</td>\n",
       "      <td>151822.0</td>\n",
       "    </tr>\n",
       "    <tr>\n",
       "      <th>5</th>\n",
       "      <td>7.0</td>\n",
       "      <td>208</td>\n",
       "      <td>4</td>\n",
       "      <td>9410.0</td>\n",
       "    </tr>\n",
       "    <tr>\n",
       "      <th>6</th>\n",
       "      <td>8.0</td>\n",
       "      <td>234</td>\n",
       "      <td>10</td>\n",
       "      <td>135550.0</td>\n",
       "    </tr>\n",
       "    <tr>\n",
       "      <th>7</th>\n",
       "      <td>9.0</td>\n",
       "      <td>15</td>\n",
       "      <td>7</td>\n",
       "      <td>65832.0</td>\n",
       "    </tr>\n",
       "    <tr>\n",
       "      <th>8</th>\n",
       "      <td>10.0</td>\n",
       "      <td>16</td>\n",
       "      <td>22</td>\n",
       "      <td>331601.0</td>\n",
       "    </tr>\n",
       "    <tr>\n",
       "      <th>9</th>\n",
       "      <td>11.0</td>\n",
       "      <td>9</td>\n",
       "      <td>10</td>\n",
       "      <td>771439.0</td>\n",
       "    </tr>\n",
       "  </tbody>\n",
       "</table>\n",
       "</div>"
      ],
      "text/plain": [
       "   CustomerID  Recency  Frequency  Monetary\n",
       "0         2.0        4         63  553704.0\n",
       "1         3.0       77         18  257404.0\n",
       "2         4.0       20         10  176613.0\n",
       "3         5.0       18          7   41976.0\n",
       "4         6.0        9         42  151822.0\n",
       "5         7.0      208          4    9410.0\n",
       "6         8.0      234         10  135550.0\n",
       "7         9.0       15          7   65832.0\n",
       "8        10.0       16         22  331601.0\n",
       "9        11.0        9         10  771439.0"
      ]
     },
     "execution_count": 21,
     "metadata": {},
     "output_type": "execute_result"
    }
   ],
   "source": [
    "RFMScore.reset_index().head(10)"
   ]
  },
  {
   "cell_type": "code",
   "execution_count": 22,
   "id": "c64b8b0a-b823-429d-a9f5-c902a08c52fe",
   "metadata": {},
   "outputs": [
    {
     "data": {
      "text/plain": [
       "count    4349.000000\n",
       "mean       61.445160\n",
       "std        89.656941\n",
       "min         1.000000\n",
       "25%        10.000000\n",
       "50%        19.000000\n",
       "75%        73.000000\n",
       "max       617.000000\n",
       "Name: Recency, dtype: float64"
      ]
     },
     "execution_count": 22,
     "metadata": {},
     "output_type": "execute_result"
    }
   ],
   "source": [
    "RFMScore.Recency.describe()"
   ]
  },
  {
   "cell_type": "code",
   "execution_count": 23,
   "id": "ccde6901-f5aa-42fe-a55c-3f35734fbac3",
   "metadata": {},
   "outputs": [
    {
     "data": {
      "image/png": "[encoded data removed]",
      "text/plain": [
       "<Figure size 432x288 with 1 Axes>"
      ]
     },
     "metadata": {
      "needs_background": "light"
     },
     "output_type": "display_data"
    }
   ],
   "source": [
    "x = RFMScore['Recency']\n",
    "\n",
    "ax = sns.distplot(x)"
   ]
  },
  {
   "cell_type": "code",
   "execution_count": 24,
   "id": "518ff49d-df19-47e9-bfde-fe8895e9fd42",
   "metadata": {},
   "outputs": [
    {
     "data": {
      "text/plain": [
       "count    4349.000000\n",
       "mean       27.396643\n",
       "std        33.594882\n",
       "min         1.000000\n",
       "25%         9.000000\n",
       "50%        16.000000\n",
       "75%        33.000000\n",
       "max       378.000000\n",
       "Name: Frequency, dtype: float64"
      ]
     },
     "execution_count": 24,
     "metadata": {},
     "output_type": "execute_result"
    }
   ],
   "source": [
    "RFMScore.Frequency.describe()"
   ]
  },
  {
   "cell_type": "code",
   "execution_count": 25,
   "id": "a99b87f0-6867-4f0b-b554-5b3c05177cae",
   "metadata": {},
   "outputs": [
    {
     "data": {
      "image/png": "[encoded data removed]",
      "text/plain": [
       "<Figure size 432x288 with 1 Axes>"
      ]
     },
     "metadata": {
      "needs_background": "light"
     },
     "output_type": "display_data"
    }
   ],
   "source": [
    "x1 = RFMScore['Frequency']\n",
    "\n",
    "ax1 = sns.distplot(x1)"
   ]
  },
  {
   "cell_type": "code",
   "execution_count": 26,
   "id": "c0cafa6d-8213-4bd5-aff9-fc319c003bcc",
   "metadata": {},
   "outputs": [
    {
     "data": {
      "text/plain": [
       "count    4.349000e+03\n",
       "mean     2.299380e+05\n",
       "std      8.572589e+05\n",
       "min     -5.037200e+04\n",
       "25%      3.814800e+04\n",
       "50%      8.365500e+04\n",
       "75%      2.056120e+05\n",
       "max      3.553619e+07\n",
       "Name: Monetary, dtype: float64"
      ]
     },
     "execution_count": 26,
     "metadata": {},
     "output_type": "execute_result"
    }
   ],
   "source": [
    "RFMScore.Monetary.describe()"
   ]
  },
  {
   "cell_type": "code",
   "execution_count": 27,
   "id": "7a7a023a-ade5-427c-bade-d5aae96a888d",
   "metadata": {},
   "outputs": [
    {
     "data": {
      "image/png": "[encoded data removed]",
      "text/plain": [
       "<Figure size 432x288 with 1 Axes>"
      ]
     },
     "metadata": {
      "needs_background": "light"
     },
     "output_type": "display_data"
    }
   ],
   "source": [
    "x2 = RFMScore.query('Monetary<10000')['Monetary']\n",
    "\n",
    "ax2 = sns.distplot(x2)"
   ]
  },
  {
   "cell_type": "markdown",
   "id": "f8b1a299",
   "metadata": {},
   "source": [
    "   "
   ]
  },
  {
   "cell_type": "code",
   "execution_count": 28,
   "id": "317e12fc-55f4-4448-94b8-6eda330102aa",
   "metadata": {},
   "outputs": [],
   "source": [
    "quantils = RFMScore.quantile(q= [0.25,0.5,0.75])\n",
    "\n",
    "quantils = quantils.to_dict()"
   ]
  },
  {
   "cell_type": "code",
   "execution_count": 29,
   "id": "8a946711-cfcf-4c7b-a959-cec567ee132f",
   "metadata": {},
   "outputs": [
    {
     "data": {
      "text/plain": [
       "{'Recency': {0.25: 10.0, 0.5: 19.0, 0.75: 73.0},\n",
       " 'Frequency': {0.25: 9.0, 0.5: 16.0, 0.75: 33.0},\n",
       " 'Monetary': {0.25: 38148.0, 0.5: 83655.0, 0.75: 205612.0}}"
      ]
     },
     "execution_count": 29,
     "metadata": {},
     "output_type": "execute_result"
    }
   ],
   "source": [
    "quantils"
   ]
  },
  {
   "cell_type": "markdown",
   "id": "f1ca8f4c",
   "metadata": {},
   "source": [
    "Each category is divied into Quantiles.\n",
    "\n",
    " * For Recency Quantile 1 is considered to have high importance.\n",
    " \n",
    " \n",
    " * For Frequency and Monetary Quantile 4 is considered to have high importance"
   ]
  },
  {
   "cell_type": "code",
   "execution_count": 30,
   "id": "9c8d3423-1a9d-466d-9cac-72a4d7e86a96",
   "metadata": {},
   "outputs": [],
   "source": [
    "# FUNCTION TO CREATE R, F AND M SEGMENTS\n",
    "\n",
    "def Rscores(x,p,d):\n",
    "    if x <= d[p][0.25]:\n",
    "        return 1\n",
    "    elif x <= d[p][0.50]:\n",
    "        return 2\n",
    "    elif x <= d[p][0.75]:\n",
    "        return 3\n",
    "    else:\n",
    "        return 4\n",
    "    \n",
    "def FMscores(x,p,d):\n",
    "    if x <= d[p][0.25]:\n",
    "        return 4\n",
    "    elif x <= d[p][0.50]:\n",
    "        return 3\n",
    "    elif x<= d[p][0.75]:\n",
    "        return 2\n",
    "    else:\n",
    "        return 1"
   ]
  },
  {
   "cell_type": "code",
   "execution_count": 31,
   "id": "b4130263-aa20-44da-9847-f3a45724a8d1",
   "metadata": {},
   "outputs": [
    {
     "data": {
      "text/plain": [
       "Index(['Recency', 'Frequency', 'Monetary'], dtype='object')"
      ]
     },
     "execution_count": 31,
     "metadata": {},
     "output_type": "execute_result"
    }
   ],
   "source": [
    "RFMScore.columns"
   ]
  },
  {
   "cell_type": "code",
   "execution_count": 32,
   "id": "42476c27-d76f-4c34-b485-f1999fa590f7",
   "metadata": {},
   "outputs": [
    {
     "data": {
      "text/html": [
       "<div>\n",
       "<style scoped>\n",
       "    .dataframe tbody tr th:only-of-type {\n",
       "        vertical-align: middle;\n",
       "    }\n",
       "\n",
       "    .dataframe tbody tr th {\n",
       "        vertical-align: top;\n",
       "    }\n",
       "\n",
       "    .dataframe thead th {\n",
       "        text-align: right;\n",
       "    }\n",
       "</style>\n",
       "<table border=\"1\" class=\"dataframe\">\n",
       "  <thead>\n",
       "    <tr style=\"text-align: right;\">\n",
       "      <th></th>\n",
       "      <th>Recency</th>\n",
       "      <th>Frequency</th>\n",
       "      <th>Monetary</th>\n",
       "      <th>R</th>\n",
       "      <th>F</th>\n",
       "      <th>M</th>\n",
       "    </tr>\n",
       "    <tr>\n",
       "      <th>CustomerID</th>\n",
       "      <th></th>\n",
       "      <th></th>\n",
       "      <th></th>\n",
       "      <th></th>\n",
       "      <th></th>\n",
       "      <th></th>\n",
       "    </tr>\n",
       "  </thead>\n",
       "  <tbody>\n",
       "    <tr>\n",
       "      <th>2.0</th>\n",
       "      <td>4</td>\n",
       "      <td>63</td>\n",
       "      <td>553704.0</td>\n",
       "      <td>1</td>\n",
       "      <td>1</td>\n",
       "      <td>1</td>\n",
       "    </tr>\n",
       "    <tr>\n",
       "      <th>3.0</th>\n",
       "      <td>77</td>\n",
       "      <td>18</td>\n",
       "      <td>257404.0</td>\n",
       "      <td>4</td>\n",
       "      <td>2</td>\n",
       "      <td>1</td>\n",
       "    </tr>\n",
       "    <tr>\n",
       "      <th>4.0</th>\n",
       "      <td>20</td>\n",
       "      <td>10</td>\n",
       "      <td>176613.0</td>\n",
       "      <td>3</td>\n",
       "      <td>3</td>\n",
       "      <td>2</td>\n",
       "    </tr>\n",
       "    <tr>\n",
       "      <th>5.0</th>\n",
       "      <td>18</td>\n",
       "      <td>7</td>\n",
       "      <td>41976.0</td>\n",
       "      <td>2</td>\n",
       "      <td>4</td>\n",
       "      <td>3</td>\n",
       "    </tr>\n",
       "    <tr>\n",
       "      <th>6.0</th>\n",
       "      <td>9</td>\n",
       "      <td>42</td>\n",
       "      <td>151822.0</td>\n",
       "      <td>1</td>\n",
       "      <td>1</td>\n",
       "      <td>2</td>\n",
       "    </tr>\n",
       "  </tbody>\n",
       "</table>\n",
       "</div>"
      ],
      "text/plain": [
       "            Recency  Frequency  Monetary  R  F  M\n",
       "CustomerID                                       \n",
       "2.0               4         63  553704.0  1  1  1\n",
       "3.0              77         18  257404.0  4  2  1\n",
       "4.0              20         10  176613.0  3  3  2\n",
       "5.0              18          7   41976.0  2  4  3\n",
       "6.0               9         42  151822.0  1  1  2"
      ]
     },
     "execution_count": 32,
     "metadata": {},
     "output_type": "execute_result"
    }
   ],
   "source": [
    "RFMScore['R'] = RFMScore['Recency'].apply(Rscores, args= ('Recency', quantils))\n",
    "RFMScore['F'] = RFMScore['Frequency'].apply(FMscores, args = ('Frequency', quantils) )\n",
    "RFMScore['M'] = RFMScore['Monetary'].apply(FMscores, args = ('Monetary', quantils) )\n",
    "\n",
    "RFMScore.head()"
   ]
  },
  {
   "cell_type": "code",
   "execution_count": 35,
   "id": "380b152d-2bdc-4c2c-ab2a-60a16a62b0e5",
   "metadata": {},
   "outputs": [],
   "source": [
    "RFMScore['RFMgroup']= RFMScore.R.map(str) + RFMScore.F.map(str) + RFMScore.M.map(str)\n",
    "RFMScore['RFMScore']= RFMScore[['R','F','M']].sum(axis=1)"
   ]
  },
  {
   "cell_type": "code",
   "execution_count": 36,
   "id": "db6869d5",
   "metadata": {},
   "outputs": [
    {
     "data": {
      "text/html": [
       "<div>\n",
       "<style scoped>\n",
       "    .dataframe tbody tr th:only-of-type {\n",
       "        vertical-align: middle;\n",
       "    }\n",
       "\n",
       "    .dataframe tbody tr th {\n",
       "        vertical-align: top;\n",
       "    }\n",
       "\n",
       "    .dataframe thead th {\n",
       "        text-align: right;\n",
       "    }\n",
       "</style>\n",
       "<table border=\"1\" class=\"dataframe\">\n",
       "  <thead>\n",
       "    <tr style=\"text-align: right;\">\n",
       "      <th></th>\n",
       "      <th>Recency</th>\n",
       "      <th>Frequency</th>\n",
       "      <th>Monetary</th>\n",
       "      <th>R</th>\n",
       "      <th>F</th>\n",
       "      <th>M</th>\n",
       "      <th>RFMgroup</th>\n",
       "      <th>RFMScore</th>\n",
       "    </tr>\n",
       "    <tr>\n",
       "      <th>CustomerID</th>\n",
       "      <th></th>\n",
       "      <th></th>\n",
       "      <th></th>\n",
       "      <th></th>\n",
       "      <th></th>\n",
       "      <th></th>\n",
       "      <th></th>\n",
       "      <th></th>\n",
       "    </tr>\n",
       "  </thead>\n",
       "  <tbody>\n",
       "    <tr>\n",
       "      <th>2.0</th>\n",
       "      <td>4</td>\n",
       "      <td>63</td>\n",
       "      <td>553704.0</td>\n",
       "      <td>1</td>\n",
       "      <td>1</td>\n",
       "      <td>1</td>\n",
       "      <td>111</td>\n",
       "      <td>3</td>\n",
       "    </tr>\n",
       "    <tr>\n",
       "      <th>3.0</th>\n",
       "      <td>77</td>\n",
       "      <td>18</td>\n",
       "      <td>257404.0</td>\n",
       "      <td>4</td>\n",
       "      <td>2</td>\n",
       "      <td>1</td>\n",
       "      <td>421</td>\n",
       "      <td>7</td>\n",
       "    </tr>\n",
       "    <tr>\n",
       "      <th>4.0</th>\n",
       "      <td>20</td>\n",
       "      <td>10</td>\n",
       "      <td>176613.0</td>\n",
       "      <td>3</td>\n",
       "      <td>3</td>\n",
       "      <td>2</td>\n",
       "      <td>332</td>\n",
       "      <td>8</td>\n",
       "    </tr>\n",
       "    <tr>\n",
       "      <th>5.0</th>\n",
       "      <td>18</td>\n",
       "      <td>7</td>\n",
       "      <td>41976.0</td>\n",
       "      <td>2</td>\n",
       "      <td>4</td>\n",
       "      <td>3</td>\n",
       "      <td>243</td>\n",
       "      <td>9</td>\n",
       "    </tr>\n",
       "    <tr>\n",
       "      <th>6.0</th>\n",
       "      <td>9</td>\n",
       "      <td>42</td>\n",
       "      <td>151822.0</td>\n",
       "      <td>1</td>\n",
       "      <td>1</td>\n",
       "      <td>2</td>\n",
       "      <td>112</td>\n",
       "      <td>4</td>\n",
       "    </tr>\n",
       "  </tbody>\n",
       "</table>\n",
       "</div>"
      ],
      "text/plain": [
       "            Recency  Frequency  Monetary  R  F  M RFMgroup  RFMScore\n",
       "CustomerID                                                          \n",
       "2.0               4         63  553704.0  1  1  1      111         3\n",
       "3.0              77         18  257404.0  4  2  1      421         7\n",
       "4.0              20         10  176613.0  3  3  2      332         8\n",
       "5.0              18          7   41976.0  2  4  3      243         9\n",
       "6.0               9         42  151822.0  1  1  2      112         4"
      ]
     },
     "execution_count": 36,
     "metadata": {},
     "output_type": "execute_result"
    }
   ],
   "source": [
    "RFMScore.head()"
   ]
  },
  {
   "cell_type": "code",
   "execution_count": 37,
   "id": "ebde25c0",
   "metadata": {},
   "outputs": [
    {
     "data": {
      "text/html": [
       "<div>\n",
       "<style scoped>\n",
       "    .dataframe tbody tr th:only-of-type {\n",
       "        vertical-align: middle;\n",
       "    }\n",
       "\n",
       "    .dataframe tbody tr th {\n",
       "        vertical-align: top;\n",
       "    }\n",
       "\n",
       "    .dataframe thead th {\n",
       "        text-align: right;\n",
       "    }\n",
       "</style>\n",
       "<table border=\"1\" class=\"dataframe\">\n",
       "  <thead>\n",
       "    <tr style=\"text-align: right;\">\n",
       "      <th></th>\n",
       "      <th>CustomerID</th>\n",
       "      <th>Recency</th>\n",
       "      <th>Frequency</th>\n",
       "      <th>Monetary</th>\n",
       "      <th>R</th>\n",
       "      <th>F</th>\n",
       "      <th>M</th>\n",
       "      <th>RFMgroup</th>\n",
       "      <th>RFMScore</th>\n",
       "      <th>RFM_Loyalty_level</th>\n",
       "    </tr>\n",
       "  </thead>\n",
       "  <tbody>\n",
       "    <tr>\n",
       "      <th>0</th>\n",
       "      <td>2.0</td>\n",
       "      <td>4</td>\n",
       "      <td>63</td>\n",
       "      <td>553704.0</td>\n",
       "      <td>1</td>\n",
       "      <td>1</td>\n",
       "      <td>1</td>\n",
       "      <td>111</td>\n",
       "      <td>3</td>\n",
       "      <td>Platinum</td>\n",
       "    </tr>\n",
       "    <tr>\n",
       "      <th>1</th>\n",
       "      <td>3.0</td>\n",
       "      <td>77</td>\n",
       "      <td>18</td>\n",
       "      <td>257404.0</td>\n",
       "      <td>4</td>\n",
       "      <td>2</td>\n",
       "      <td>1</td>\n",
       "      <td>421</td>\n",
       "      <td>7</td>\n",
       "      <td>Gold</td>\n",
       "    </tr>\n",
       "    <tr>\n",
       "      <th>2</th>\n",
       "      <td>4.0</td>\n",
       "      <td>20</td>\n",
       "      <td>10</td>\n",
       "      <td>176613.0</td>\n",
       "      <td>3</td>\n",
       "      <td>3</td>\n",
       "      <td>2</td>\n",
       "      <td>332</td>\n",
       "      <td>8</td>\n",
       "      <td>Gold</td>\n",
       "    </tr>\n",
       "    <tr>\n",
       "      <th>3</th>\n",
       "      <td>5.0</td>\n",
       "      <td>18</td>\n",
       "      <td>7</td>\n",
       "      <td>41976.0</td>\n",
       "      <td>2</td>\n",
       "      <td>4</td>\n",
       "      <td>3</td>\n",
       "      <td>243</td>\n",
       "      <td>9</td>\n",
       "      <td>Silver</td>\n",
       "    </tr>\n",
       "    <tr>\n",
       "      <th>4</th>\n",
       "      <td>6.0</td>\n",
       "      <td>9</td>\n",
       "      <td>42</td>\n",
       "      <td>151822.0</td>\n",
       "      <td>1</td>\n",
       "      <td>1</td>\n",
       "      <td>2</td>\n",
       "      <td>112</td>\n",
       "      <td>4</td>\n",
       "      <td>Platinum</td>\n",
       "    </tr>\n",
       "    <tr>\n",
       "      <th>5</th>\n",
       "      <td>7.0</td>\n",
       "      <td>208</td>\n",
       "      <td>4</td>\n",
       "      <td>9410.0</td>\n",
       "      <td>4</td>\n",
       "      <td>4</td>\n",
       "      <td>4</td>\n",
       "      <td>444</td>\n",
       "      <td>12</td>\n",
       "      <td>Bronze</td>\n",
       "    </tr>\n",
       "    <tr>\n",
       "      <th>6</th>\n",
       "      <td>8.0</td>\n",
       "      <td>234</td>\n",
       "      <td>10</td>\n",
       "      <td>135550.0</td>\n",
       "      <td>4</td>\n",
       "      <td>3</td>\n",
       "      <td>2</td>\n",
       "      <td>432</td>\n",
       "      <td>9</td>\n",
       "      <td>Silver</td>\n",
       "    </tr>\n",
       "    <tr>\n",
       "      <th>7</th>\n",
       "      <td>9.0</td>\n",
       "      <td>15</td>\n",
       "      <td>7</td>\n",
       "      <td>65832.0</td>\n",
       "      <td>2</td>\n",
       "      <td>4</td>\n",
       "      <td>3</td>\n",
       "      <td>243</td>\n",
       "      <td>9</td>\n",
       "      <td>Silver</td>\n",
       "    </tr>\n",
       "    <tr>\n",
       "      <th>8</th>\n",
       "      <td>10.0</td>\n",
       "      <td>16</td>\n",
       "      <td>22</td>\n",
       "      <td>331601.0</td>\n",
       "      <td>2</td>\n",
       "      <td>2</td>\n",
       "      <td>1</td>\n",
       "      <td>221</td>\n",
       "      <td>5</td>\n",
       "      <td>Platinum</td>\n",
       "    </tr>\n",
       "    <tr>\n",
       "      <th>9</th>\n",
       "      <td>11.0</td>\n",
       "      <td>9</td>\n",
       "      <td>10</td>\n",
       "      <td>771439.0</td>\n",
       "      <td>1</td>\n",
       "      <td>3</td>\n",
       "      <td>1</td>\n",
       "      <td>131</td>\n",
       "      <td>5</td>\n",
       "      <td>Platinum</td>\n",
       "    </tr>\n",
       "    <tr>\n",
       "      <th>10</th>\n",
       "      <td>12.0</td>\n",
       "      <td>2</td>\n",
       "      <td>11</td>\n",
       "      <td>105674.0</td>\n",
       "      <td>1</td>\n",
       "      <td>3</td>\n",
       "      <td>2</td>\n",
       "      <td>132</td>\n",
       "      <td>6</td>\n",
       "      <td>Gold</td>\n",
       "    </tr>\n",
       "    <tr>\n",
       "      <th>11</th>\n",
       "      <td>13.0</td>\n",
       "      <td>14</td>\n",
       "      <td>42</td>\n",
       "      <td>705406.0</td>\n",
       "      <td>2</td>\n",
       "      <td>1</td>\n",
       "      <td>1</td>\n",
       "      <td>211</td>\n",
       "      <td>4</td>\n",
       "      <td>Platinum</td>\n",
       "    </tr>\n",
       "    <tr>\n",
       "      <th>12</th>\n",
       "      <td>14.0</td>\n",
       "      <td>53</td>\n",
       "      <td>29</td>\n",
       "      <td>281630.0</td>\n",
       "      <td>3</td>\n",
       "      <td>2</td>\n",
       "      <td>1</td>\n",
       "      <td>321</td>\n",
       "      <td>6</td>\n",
       "      <td>Gold</td>\n",
       "    </tr>\n",
       "    <tr>\n",
       "      <th>13</th>\n",
       "      <td>15.0</td>\n",
       "      <td>170</td>\n",
       "      <td>6</td>\n",
       "      <td>21630.0</td>\n",
       "      <td>4</td>\n",
       "      <td>4</td>\n",
       "      <td>4</td>\n",
       "      <td>444</td>\n",
       "      <td>12</td>\n",
       "      <td>Bronze</td>\n",
       "    </tr>\n",
       "    <tr>\n",
       "      <th>14</th>\n",
       "      <td>16.0</td>\n",
       "      <td>4</td>\n",
       "      <td>84</td>\n",
       "      <td>578591.0</td>\n",
       "      <td>1</td>\n",
       "      <td>1</td>\n",
       "      <td>1</td>\n",
       "      <td>111</td>\n",
       "      <td>3</td>\n",
       "      <td>Platinum</td>\n",
       "    </tr>\n",
       "    <tr>\n",
       "      <th>15</th>\n",
       "      <td>17.0</td>\n",
       "      <td>16</td>\n",
       "      <td>16</td>\n",
       "      <td>78378.0</td>\n",
       "      <td>2</td>\n",
       "      <td>3</td>\n",
       "      <td>3</td>\n",
       "      <td>233</td>\n",
       "      <td>8</td>\n",
       "      <td>Gold</td>\n",
       "    </tr>\n",
       "    <tr>\n",
       "      <th>16</th>\n",
       "      <td>18.0</td>\n",
       "      <td>8</td>\n",
       "      <td>30</td>\n",
       "      <td>205212.0</td>\n",
       "      <td>1</td>\n",
       "      <td>2</td>\n",
       "      <td>2</td>\n",
       "      <td>122</td>\n",
       "      <td>5</td>\n",
       "      <td>Platinum</td>\n",
       "    </tr>\n",
       "    <tr>\n",
       "      <th>17</th>\n",
       "      <td>19.0</td>\n",
       "      <td>292</td>\n",
       "      <td>9</td>\n",
       "      <td>41055.0</td>\n",
       "      <td>4</td>\n",
       "      <td>4</td>\n",
       "      <td>3</td>\n",
       "      <td>443</td>\n",
       "      <td>11</td>\n",
       "      <td>Bronze</td>\n",
       "    </tr>\n",
       "    <tr>\n",
       "      <th>18</th>\n",
       "      <td>20.0</td>\n",
       "      <td>6</td>\n",
       "      <td>8</td>\n",
       "      <td>23537.0</td>\n",
       "      <td>1</td>\n",
       "      <td>4</td>\n",
       "      <td>4</td>\n",
       "      <td>144</td>\n",
       "      <td>9</td>\n",
       "      <td>Silver</td>\n",
       "    </tr>\n",
       "    <tr>\n",
       "      <th>19</th>\n",
       "      <td>21.0</td>\n",
       "      <td>17</td>\n",
       "      <td>31</td>\n",
       "      <td>469518.0</td>\n",
       "      <td>2</td>\n",
       "      <td>2</td>\n",
       "      <td>1</td>\n",
       "      <td>221</td>\n",
       "      <td>5</td>\n",
       "      <td>Platinum</td>\n",
       "    </tr>\n",
       "  </tbody>\n",
       "</table>\n",
       "</div>"
      ],
      "text/plain": [
       "    CustomerID  Recency  Frequency  Monetary  R  F  M RFMgroup  RFMScore  \\\n",
       "0          2.0        4         63  553704.0  1  1  1      111         3   \n",
       "1          3.0       77         18  257404.0  4  2  1      421         7   \n",
       "2          4.0       20         10  176613.0  3  3  2      332         8   \n",
       "3          5.0       18          7   41976.0  2  4  3      243         9   \n",
       "4          6.0        9         42  151822.0  1  1  2      112         4   \n",
       "5          7.0      208          4    9410.0  4  4  4      444        12   \n",
       "6          8.0      234         10  135550.0  4  3  2      432         9   \n",
       "7          9.0       15          7   65832.0  2  4  3      243         9   \n",
       "8         10.0       16         22  331601.0  2  2  1      221         5   \n",
       "9         11.0        9         10  771439.0  1  3  1      131         5   \n",
       "10        12.0        2         11  105674.0  1  3  2      132         6   \n",
       "11        13.0       14         42  705406.0  2  1  1      211         4   \n",
       "12        14.0       53         29  281630.0  3  2  1      321         6   \n",
       "13        15.0      170          6   21630.0  4  4  4      444        12   \n",
       "14        16.0        4         84  578591.0  1  1  1      111         3   \n",
       "15        17.0       16         16   78378.0  2  3  3      233         8   \n",
       "16        18.0        8         30  205212.0  1  2  2      122         5   \n",
       "17        19.0      292          9   41055.0  4  4  3      443        11   \n",
       "18        20.0        6          8   23537.0  1  4  4      144         9   \n",
       "19        21.0       17         31  469518.0  2  2  1      221         5   \n",
       "\n",
       "   RFM_Loyalty_level  \n",
       "0           Platinum  \n",
       "1               Gold  \n",
       "2               Gold  \n",
       "3             Silver  \n",
       "4           Platinum  \n",
       "5             Bronze  \n",
       "6             Silver  \n",
       "7             Silver  \n",
       "8           Platinum  \n",
       "9           Platinum  \n",
       "10              Gold  \n",
       "11          Platinum  \n",
       "12              Gold  \n",
       "13            Bronze  \n",
       "14          Platinum  \n",
       "15              Gold  \n",
       "16          Platinum  \n",
       "17            Bronze  \n",
       "18            Silver  \n",
       "19          Platinum  "
      ]
     },
     "execution_count": 37,
     "metadata": {},
     "output_type": "execute_result"
    }
   ],
   "source": [
    "Loyalty_level = ['Platinum','Gold','Silver','Bronze']\n",
    "score_cuts = pd.qcut(RFMScore.RFMScore, q=4, labels=Loyalty_level)\n",
    "RFMScore['RFM_Loyalty_level']= score_cuts.values\n",
    "RFMScore.reset_index().head(20)"
   ]
  },
  {
   "cell_type": "code",
   "execution_count": 42,
   "id": "53b01860",
   "metadata": {},
   "outputs": [
    {
     "data": {
      "text/plain": [
       "Platinum    1336\n",
       "Gold        1209\n",
       "Silver       903\n",
       "Bronze       901\n",
       "Name: RFM_Loyalty_level, dtype: int64"
      ]
     },
     "execution_count": 42,
     "metadata": {},
     "output_type": "execute_result"
    }
   ],
   "source": [
    "RFMScore['RFM_Loyalty_level'].value_counts()"
   ]
  },
  {
   "cell_type": "code",
   "execution_count": 44,
   "id": "aaab9520",
   "metadata": {},
   "outputs": [
    {
     "name": "stdout",
     "output_type": "stream",
     "text": [
      "<class 'pandas.core.frame.DataFrame'>\n",
      "Float64Index: 4349 entries, 2.0 to 4372.0\n",
      "Data columns (total 9 columns):\n",
      " #   Column             Non-Null Count  Dtype   \n",
      "---  ------             --------------  -----   \n",
      " 0   Recency            4349 non-null   int64   \n",
      " 1   Frequency          4349 non-null   int32   \n",
      " 2   Monetary           4349 non-null   float64 \n",
      " 3   R                  4349 non-null   int64   \n",
      " 4   F                  4349 non-null   int64   \n",
      " 5   M                  4349 non-null   int64   \n",
      " 6   RFMgroup           4349 non-null   object  \n",
      " 7   RFMScore           4349 non-null   int64   \n",
      " 8   RFM_Loyalty_level  4349 non-null   category\n",
      "dtypes: category(1), float64(1), int32(1), int64(5), object(1)\n",
      "memory usage: 293.2+ KB\n"
     ]
    }
   ],
   "source": [
    "RFMScore.info()"
   ]
  },
  {
   "cell_type": "markdown",
   "id": "edec02e5",
   "metadata": {},
   "source": [
    "### Extracting the RFMScore Data into  a CSV file:"
   ]
  },
  {
   "cell_type": "code",
   "execution_count": 49,
   "id": "65dc71c2",
   "metadata": {},
   "outputs": [],
   "source": [
    "RFMScore.to_csv('customer_loyalty_data.csv')"
   ]
  },
  {
   "cell_type": "code",
   "execution_count": null,
   "id": "925405ed",
   "metadata": {},
   "outputs": [],
   "source": []
  }
 ],
 "metadata": {
  "kernelspec": {
   "display_name": "Python 3 (ipykernel)",
   "language": "python",
   "name": "python3"
  },
  "language_info": {
   "codemirror_mode": {
    "name": "ipython",
    "version": 3
   },
   "file_extension": ".py",
   "mimetype": "text/x-python",
   "name": "python",
   "nbconvert_exporter": "python",
   "pygments_lexer": "ipython3",
   "version": "3.9.12"
  }
 },
 "nbformat": 4,
 "nbformat_minor": 5
}
